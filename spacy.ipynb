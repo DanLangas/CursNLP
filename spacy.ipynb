{
  "nbformat": 4,
  "nbformat_minor": 0,
  "metadata": {
    "colab": {
      "provenance": [],
      "authorship_tag": "ABX9TyMnEIuYhwi/egNgihVDLSM2",
      "include_colab_link": true
    },
    "kernelspec": {
      "name": "python3",
      "display_name": "Python 3"
    },
    "language_info": {
      "name": "python"
    }
  },
  "cells": [
    {
      "cell_type": "markdown",
      "metadata": {
        "id": "view-in-github",
        "colab_type": "text"
      },
      "source": [
        "<a href=\"https://colab.research.google.com/github/DanLangas/CursNLP/blob/main/spacy.ipynb\" target=\"_parent\"><img src=\"https://colab.research.google.com/assets/colab-badge.svg\" alt=\"Open In Colab\"/></a>"
      ]
    },
    {
      "cell_type": "code",
      "execution_count": 5,
      "metadata": {
        "id": "MGWBq-J4Wnhk"
      },
      "outputs": [],
      "source": [
        "import spacy\n",
        "import re\n",
        "nlp = spacy.load('en_core_web_sm')"
      ]
    },
    {
      "cell_type": "code",
      "source": [
        "text = \"Acest text este pentru exemplificare.\"\n",
        "doc = nlp(text)"
      ],
      "metadata": {
        "id": "-0URYhtdWwpP"
      },
      "execution_count": 6,
      "outputs": []
    },
    {
      "cell_type": "code",
      "source": [
        "# exemplu simplu expresii regulate cu spaCy\n",
        "matches = re.finditer(r'\\bpentru\\b', text)\n",
        "for match in matches:\n",
        "  print(match.group())"
      ],
      "metadata": {
        "id": "7js3S3Z0W1Qn"
      },
      "execution_count": null,
      "outputs": []
    }
  ]
}
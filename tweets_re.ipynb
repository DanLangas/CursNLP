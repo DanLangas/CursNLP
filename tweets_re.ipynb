{
  "nbformat": 4,
  "nbformat_minor": 0,
  "metadata": {
    "colab": {
      "provenance": [],
      "authorship_tag": "ABX9TyN0AHCoThK5imUK14uX4qB0",
      "include_colab_link": true
    },
    "kernelspec": {
      "name": "python3",
      "display_name": "Python 3"
    },
    "language_info": {
      "name": "python"
    }
  },
  "cells": [
    {
      "cell_type": "markdown",
      "metadata": {
        "id": "view-in-github",
        "colab_type": "text"
      },
      "source": [
        "<a href=\"https://colab.research.google.com/github/DanLangas/CursNLP/blob/main/tweets_re.ipynb\" target=\"_parent\"><img src=\"https://colab.research.google.com/assets/colab-badge.svg\" alt=\"Open In Colab\"/></a>"
      ]
    },
    {
      "cell_type": "code",
      "execution_count": 1,
      "metadata": {
        "id": "5HsPYH_hNg5w"
      },
      "outputs": [],
      "source": [
        "import re\n",
        "import csv"
      ]
    },
    {
      "cell_type": "code",
      "source": [
        "def curata_tweeturi(tweeturi):\n",
        "  tweeturi_curate = []\n",
        "  for tweet in tweeturi:\n",
        "    tweet = re.sub(r'#\\w+', '', tweet)\n",
        "    tweet = re.sub(r'@\\w+', '', tweet)\n",
        "    tweet = re.sub(r'http\\S+', '', tweet)\n",
        "    tweet = re.sub(r'[^\\w\\s]', '', tweet)\n",
        "    tweeturi_curate.append(tweet)\n",
        "    return tweeturi_curate"
      ],
      "metadata": {
        "id": "0CNfv94GRp1j"
      },
      "execution_count": 2,
      "outputs": []
    },
    {
      "cell_type": "code",
      "source": [
        "def scrie_in_csv(tweeturi_curate, nume_fisier):\n",
        "  with open(nume_fisier, 'w', newline='', encoding='utf-8') as csvfile:\n",
        "    fieldnames = ['Tweet Curat']\n",
        "    writer = csv.DictWriter(csvfile, fieldnames=fieldnames)\n",
        "    writer.writeheader()\n",
        "    for tweet_curat in tweeturi_curate:\n",
        "      writer.writerow({'Tweet Curat': tweet_curat})"
      ],
      "metadata": {
        "id": "Pmsrw0Y-RvQz"
      },
      "execution_count": 3,
      "outputs": []
    },
    {
      "cell_type": "code",
      "source": [
        "# Exemplu de folosire\n",
        "tweeturi_origin = [\n",
        "\"tweet cu #hashtag interesant! @tweets\",\n",
        "\"Verificati acest link: https://twitter.com/.com\",\n",
        "\"Mesaj despre #eveniment? @utilizator\"\n",
        "]\n",
        "tweeturi_curate = curata_tweeturi(tweeturi_origin)\n",
        "# Scrie datele curățate într-un fișier CSV\n",
        "#scrie_in_csv(tweeturi_curate, 'c://2024/tweeturi_curate.csv')\n",
        "#print(\"rezultat in CSV \")"
      ],
      "metadata": {
        "id": "Osbriu6gRzD7"
      },
      "execution_count": 4,
      "outputs": []
    },
    {
      "cell_type": "code",
      "source": [
        "tweeturi_curate"
      ],
      "metadata": {
        "colab": {
          "base_uri": "https://localhost:8080/"
        },
        "id": "FfRv7AgsT2_n",
        "outputId": "b4e70971-9e51-4174-91fd-7c9379939e64"
      },
      "execution_count": 5,
      "outputs": [
        {
          "output_type": "execute_result",
          "data": {
            "text/plain": [
              "['tweet cu  interesant ']"
            ]
          },
          "metadata": {},
          "execution_count": 5
        }
      ]
    },
    {
      "cell_type": "code",
      "source": [],
      "metadata": {
        "id": "-L4j59EfT6nj"
      },
      "execution_count": null,
      "outputs": []
    }
  ]
}
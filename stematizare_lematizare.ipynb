{
  "nbformat": 4,
  "nbformat_minor": 0,
  "metadata": {
    "colab": {
      "provenance": [],
      "authorship_tag": "ABX9TyO5/b3zbB5sWeYZHo/sxENA",
      "include_colab_link": true
    },
    "kernelspec": {
      "name": "python3",
      "display_name": "Python 3"
    },
    "language_info": {
      "name": "python"
    }
  },
  "cells": [
    {
      "cell_type": "markdown",
      "metadata": {
        "id": "view-in-github",
        "colab_type": "text"
      },
      "source": [
        "<a href=\"https://colab.research.google.com/github/DanLangas/CursNLP/blob/main/stematizare_lematizare.ipynb\" target=\"_parent\"><img src=\"https://colab.research.google.com/assets/colab-badge.svg\" alt=\"Open In Colab\"/></a>"
      ]
    },
    {
      "cell_type": "code",
      "execution_count": 3,
      "metadata": {
        "colab": {
          "base_uri": "https://localhost:8080/"
        },
        "id": "j8-8LMeD97A3",
        "outputId": "a15ded72-89d8-41d2-c151-73866090154f"
      },
      "outputs": [
        {
          "output_type": "stream",
          "name": "stderr",
          "text": [
            "[nltk_data] Downloading package stopwords to /root/nltk_data...\n",
            "[nltk_data]   Unzipping corpora/stopwords.zip.\n",
            "[nltk_data] Downloading package punkt to /root/nltk_data...\n",
            "[nltk_data]   Package punkt is already up-to-date!\n",
            "[nltk_data] Downloading package wordnet to /root/nltk_data...\n",
            "[nltk_data]   Package wordnet is already up-to-date!\n"
          ]
        },
        {
          "output_type": "execute_result",
          "data": {
            "text/plain": [
              "True"
            ]
          },
          "metadata": {},
          "execution_count": 3
        }
      ],
      "source": [
        "import nltk\n",
        "from nltk.stem import PorterStemmer, WordNetLemmatizer\n",
        "from nltk.tokenize import word_tokenize\n",
        "\n",
        "from nltk.corpus import stopwords\n",
        "\n",
        "import re\n",
        "nltk.download('stopwords')\n",
        "nltk.download('punkt')\n",
        "nltk.download('wordnet')"
      ]
    },
    {
      "cell_type": "code",
      "source": [
        "# Text de exemplu\n",
        "text = \"\"\"SpaceX CEO Elon Musk has shared another picture of his company’s new\n",
        "space suits, this time showing off a full-body shot of what the outfit will look\n",
        "like. Shared on his Instagram, the image shows someone wearing the suit while\n",
        "standing next to a Crew Dragon capsule, the vehicle that SpaceX is building to\n",
        "take NASA astronauts to and from the International Space Station for the\n",
        "agency’s Commercial Crew Program\"\"\"\n",
        "\n",
        "text_nou = re.sub(r'[^a-zA-Z\\s]', '', text.lower())\n",
        "\n"
      ],
      "metadata": {
        "id": "lxDZERqO-DuR"
      },
      "execution_count": 6,
      "outputs": []
    },
    {
      "cell_type": "code",
      "source": [
        "text_nou"
      ],
      "metadata": {
        "colab": {
          "base_uri": "https://localhost:8080/",
          "height": 53
        },
        "id": "9QuyQnGWBs2z",
        "outputId": "b3bad1f7-0450-473e-ad57-cd97c71f4185"
      },
      "execution_count": 7,
      "outputs": [
        {
          "output_type": "execute_result",
          "data": {
            "text/plain": [
              "'spacex ceo elon musk has shared another picture of his companys new \\nspace suits this time showing off a fullbody shot of what the outfit will look\\nlike shared on his instagram the image shows someone wearing the suit while \\nstanding next to a crew dragon capsule the vehicle that spacex is building to\\ntake nasa astronauts to and from the international space station for the \\nagencys commercial crew program'"
            ],
            "application/vnd.google.colaboratory.intrinsic+json": {
              "type": "string"
            }
          },
          "metadata": {},
          "execution_count": 7
        }
      ]
    },
    {
      "cell_type": "code",
      "source": [
        "# Tokenizare cuvintelor\n",
        "words = word_tokenize(text_nou)\n",
        "\n",
        "words"
      ],
      "metadata": {
        "colab": {
          "base_uri": "https://localhost:8080/"
        },
        "id": "L8-Pidy4BvUK",
        "outputId": "ddd651f2-38c8-4c30-af61-e8a74fec04a2"
      },
      "execution_count": 8,
      "outputs": [
        {
          "output_type": "execute_result",
          "data": {
            "text/plain": [
              "['spacex',\n",
              " 'ceo',\n",
              " 'elon',\n",
              " 'musk',\n",
              " 'has',\n",
              " 'shared',\n",
              " 'another',\n",
              " 'picture',\n",
              " 'of',\n",
              " 'his',\n",
              " 'companys',\n",
              " 'new',\n",
              " 'space',\n",
              " 'suits',\n",
              " 'this',\n",
              " 'time',\n",
              " 'showing',\n",
              " 'off',\n",
              " 'a',\n",
              " 'fullbody',\n",
              " 'shot',\n",
              " 'of',\n",
              " 'what',\n",
              " 'the',\n",
              " 'outfit',\n",
              " 'will',\n",
              " 'look',\n",
              " 'like',\n",
              " 'shared',\n",
              " 'on',\n",
              " 'his',\n",
              " 'instagram',\n",
              " 'the',\n",
              " 'image',\n",
              " 'shows',\n",
              " 'someone',\n",
              " 'wearing',\n",
              " 'the',\n",
              " 'suit',\n",
              " 'while',\n",
              " 'standing',\n",
              " 'next',\n",
              " 'to',\n",
              " 'a',\n",
              " 'crew',\n",
              " 'dragon',\n",
              " 'capsule',\n",
              " 'the',\n",
              " 'vehicle',\n",
              " 'that',\n",
              " 'spacex',\n",
              " 'is',\n",
              " 'building',\n",
              " 'to',\n",
              " 'take',\n",
              " 'nasa',\n",
              " 'astronauts',\n",
              " 'to',\n",
              " 'and',\n",
              " 'from',\n",
              " 'the',\n",
              " 'international',\n",
              " 'space',\n",
              " 'station',\n",
              " 'for',\n",
              " 'the',\n",
              " 'agencys',\n",
              " 'commercial',\n",
              " 'crew',\n",
              " 'program']"
            ]
          },
          "metadata": {},
          "execution_count": 8
        }
      ]
    },
    {
      "cell_type": "code",
      "source": [
        "default_stopwords = set(stopwords.words('english'))\n",
        "print(\"Default stopwords:\", default_stopwords)\n",
        ""
      ],
      "metadata": {
        "colab": {
          "base_uri": "https://localhost:8080/"
        },
        "id": "mF-8bMarB18h",
        "outputId": "b462dfe9-0176-49a0-fe69-184d0ffc6362"
      },
      "execution_count": 9,
      "outputs": [
        {
          "output_type": "stream",
          "name": "stdout",
          "text": [
            "Default stopwords: {'aren', 'until', \"you're\", 'they', 'before', 'only', 'below', 'here', 'mightn', 'we', 'his', 'am', 'm', 'ourselves', 'having', \"mustn't\", 'yourselves', 'in', 'there', 'all', 'has', 'hasn', 'an', 'their', 'whom', 'couldn', 'nor', 'down', 'so', \"aren't\", 'and', 'those', 'he', 'some', 'you', 'our', 'that', 'of', \"you've\", 'being', 'theirs', 'ma', 'as', 'hadn', 'on', 'now', 'yourself', 'she', 'each', 'him', 's', \"hasn't\", 'most', 'mustn', 'weren', 'won', 'both', 'up', 'her', 'more', 'shan', 'through', 'your', 'if', 'is', 'be', 'further', 'isn', 'no', 'can', 'a', 'o', 'who', 'why', 've', 'will', 'between', 'when', 'didn', \"you'd\", 'while', 'with', \"mightn't\", 'how', 'needn', 'shouldn', \"shouldn't\", 'these', \"you'll\", 'not', 'this', 'had', \"needn't\", 'any', 'ours', 'off', 'hers', 'against', 're', 'have', 'from', 'me', 'or', \"didn't\", 'once', \"isn't\", 'again', 'i', 'itself', 'above', 'other', \"won't\", 'which', 'over', 'where', 'it', 'been', 'my', 'does', 'the', \"shan't\", 'wouldn', \"she's\", 'to', 'them', \"doesn't\", \"that'll\", 'out', 'then', 'don', \"couldn't\", 'into', 'herself', 'own', 'because', 'll', 'wasn', 'did', 'yours', \"should've\", 'under', 'same', 'd', 'few', 'but', \"wouldn't\", 'than', 'such', \"it's\", 'do', \"wasn't\", 'doesn', 'at', \"hadn't\", 'by', 'themselves', 'during', \"don't\", \"haven't\", 'should', 'for', 'very', 'myself', 'its', 'himself', 'haven', 'what', 'about', \"weren't\", 'were', 'doing', 'y', 'just', 't', 'too', 'was', 'are', 'after', 'ain'}\n"
          ]
        }
      ]
    },
    {
      "cell_type": "code",
      "source": [
        "\n",
        "filtered_words = [word for word in words if word not in default_stopwords]\n",
        "print(\"Filtered words:\", filtered_words)\n",
        ""
      ],
      "metadata": {
        "colab": {
          "base_uri": "https://localhost:8080/"
        },
        "id": "8EPwfdXkB6gi",
        "outputId": "fb04de1d-b3c5-41a8-b472-1b038383a387"
      },
      "execution_count": 10,
      "outputs": [
        {
          "output_type": "stream",
          "name": "stdout",
          "text": [
            "Filtered words: ['spacex', 'ceo', 'elon', 'musk', 'shared', 'another', 'picture', 'companys', 'new', 'space', 'suits', 'time', 'showing', 'fullbody', 'shot', 'outfit', 'look', 'like', 'shared', 'instagram', 'image', 'shows', 'someone', 'wearing', 'suit', 'standing', 'next', 'crew', 'dragon', 'capsule', 'vehicle', 'spacex', 'building', 'take', 'nasa', 'astronauts', 'international', 'space', 'station', 'agencys', 'commercial', 'crew', 'program']\n"
          ]
        }
      ]
    },
    {
      "cell_type": "code",
      "source": [
        "\n",
        "# Stemarea cuvintelor\n",
        "stemmer = PorterStemmer()\n",
        "stemmed_words = [stemmer.stem(word) for word in filtered_words]\n",
        "stemmed_words"
      ],
      "metadata": {
        "colab": {
          "base_uri": "https://localhost:8080/"
        },
        "id": "2-n5GOs_B9-K",
        "outputId": "db5272a5-6f23-4a83-d389-657e89e5adfb"
      },
      "execution_count": 12,
      "outputs": [
        {
          "output_type": "execute_result",
          "data": {
            "text/plain": [
              "['spacex',\n",
              " 'ceo',\n",
              " 'elon',\n",
              " 'musk',\n",
              " 'share',\n",
              " 'anoth',\n",
              " 'pictur',\n",
              " 'compani',\n",
              " 'new',\n",
              " 'space',\n",
              " 'suit',\n",
              " 'time',\n",
              " 'show',\n",
              " 'fullbodi',\n",
              " 'shot',\n",
              " 'outfit',\n",
              " 'look',\n",
              " 'like',\n",
              " 'share',\n",
              " 'instagram',\n",
              " 'imag',\n",
              " 'show',\n",
              " 'someon',\n",
              " 'wear',\n",
              " 'suit',\n",
              " 'stand',\n",
              " 'next',\n",
              " 'crew',\n",
              " 'dragon',\n",
              " 'capsul',\n",
              " 'vehicl',\n",
              " 'spacex',\n",
              " 'build',\n",
              " 'take',\n",
              " 'nasa',\n",
              " 'astronaut',\n",
              " 'intern',\n",
              " 'space',\n",
              " 'station',\n",
              " 'agenc',\n",
              " 'commerci',\n",
              " 'crew',\n",
              " 'program']"
            ]
          },
          "metadata": {},
          "execution_count": 12
        }
      ]
    },
    {
      "cell_type": "code",
      "source": [
        "# Lematizarea cuvintelor\n",
        "lemmatizer = WordNetLemmatizer()\n",
        "lemmatized_words = [lemmatizer.lemmatize(word) for word in filtered_words]\n",
        "\n",
        "lemmatized_words"
      ],
      "metadata": {
        "colab": {
          "base_uri": "https://localhost:8080/"
        },
        "id": "ejlraSkuCB1J",
        "outputId": "2f3ece18-c515-4df0-d437-ff3acbdf8130"
      },
      "execution_count": 13,
      "outputs": [
        {
          "output_type": "execute_result",
          "data": {
            "text/plain": [
              "['spacex',\n",
              " 'ceo',\n",
              " 'elon',\n",
              " 'musk',\n",
              " 'shared',\n",
              " 'another',\n",
              " 'picture',\n",
              " 'company',\n",
              " 'new',\n",
              " 'space',\n",
              " 'suit',\n",
              " 'time',\n",
              " 'showing',\n",
              " 'fullbody',\n",
              " 'shot',\n",
              " 'outfit',\n",
              " 'look',\n",
              " 'like',\n",
              " 'shared',\n",
              " 'instagram',\n",
              " 'image',\n",
              " 'show',\n",
              " 'someone',\n",
              " 'wearing',\n",
              " 'suit',\n",
              " 'standing',\n",
              " 'next',\n",
              " 'crew',\n",
              " 'dragon',\n",
              " 'capsule',\n",
              " 'vehicle',\n",
              " 'spacex',\n",
              " 'building',\n",
              " 'take',\n",
              " 'nasa',\n",
              " 'astronaut',\n",
              " 'international',\n",
              " 'space',\n",
              " 'station',\n",
              " 'agency',\n",
              " 'commercial',\n",
              " 'crew',\n",
              " 'program']"
            ]
          },
          "metadata": {},
          "execution_count": 13
        }
      ]
    },
    {
      "cell_type": "code",
      "source": [
        "# Afisare rezultate\n",
        "print(\"Text original:\", words)\n",
        "print(\"Cuvinte stemate:\", stemmed_words)\n",
        "print(\"Cuvinte lematizate:\", lemmatized_words)"
      ],
      "metadata": {
        "colab": {
          "base_uri": "https://localhost:8080/"
        },
        "id": "IMYoz2EzCQ2p",
        "outputId": "69ad7b8f-dcc8-4910-8289-717243307a87"
      },
      "execution_count": 14,
      "outputs": [
        {
          "output_type": "stream",
          "name": "stdout",
          "text": [
            "Text original: ['spacex', 'ceo', 'elon', 'musk', 'has', 'shared', 'another', 'picture', 'of', 'his', 'companys', 'new', 'space', 'suits', 'this', 'time', 'showing', 'off', 'a', 'fullbody', 'shot', 'of', 'what', 'the', 'outfit', 'will', 'look', 'like', 'shared', 'on', 'his', 'instagram', 'the', 'image', 'shows', 'someone', 'wearing', 'the', 'suit', 'while', 'standing', 'next', 'to', 'a', 'crew', 'dragon', 'capsule', 'the', 'vehicle', 'that', 'spacex', 'is', 'building', 'to', 'take', 'nasa', 'astronauts', 'to', 'and', 'from', 'the', 'international', 'space', 'station', 'for', 'the', 'agencys', 'commercial', 'crew', 'program']\n",
            "Cuvinte stemate: ['spacex', 'ceo', 'elon', 'musk', 'share', 'anoth', 'pictur', 'compani', 'new', 'space', 'suit', 'time', 'show', 'fullbodi', 'shot', 'outfit', 'look', 'like', 'share', 'instagram', 'imag', 'show', 'someon', 'wear', 'suit', 'stand', 'next', 'crew', 'dragon', 'capsul', 'vehicl', 'spacex', 'build', 'take', 'nasa', 'astronaut', 'intern', 'space', 'station', 'agenc', 'commerci', 'crew', 'program']\n",
            "Cuvinte lematizate: ['spacex', 'ceo', 'elon', 'musk', 'shared', 'another', 'picture', 'company', 'new', 'space', 'suit', 'time', 'showing', 'fullbody', 'shot', 'outfit', 'look', 'like', 'shared', 'instagram', 'image', 'show', 'someone', 'wearing', 'suit', 'standing', 'next', 'crew', 'dragon', 'capsule', 'vehicle', 'spacex', 'building', 'take', 'nasa', 'astronaut', 'international', 'space', 'station', 'agency', 'commercial', 'crew', 'program']\n"
          ]
        }
      ]
    },
    {
      "cell_type": "code",
      "source": [],
      "metadata": {
        "id": "VuEXqSI4CSvR"
      },
      "execution_count": null,
      "outputs": []
    }
  ]
}
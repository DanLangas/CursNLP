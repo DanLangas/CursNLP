{
  "nbformat": 4,
  "nbformat_minor": 0,
  "metadata": {
    "colab": {
      "provenance": [],
      "authorship_tag": "ABX9TyNzHyxLk1hah9sRs0PFFnGS"
    },
    "kernelspec": {
      "name": "python3",
      "display_name": "Python 3"
    },
    "language_info": {
      "name": "python"
    }
  },
  "cells": [
    {
      "cell_type": "code",
      "execution_count": 1,
      "metadata": {
        "colab": {
          "base_uri": "https://localhost:8080/",
          "height": 143
        },
        "id": "D3beqMhuCqM9",
        "outputId": "8a5f2a7e-de9f-4fe1-ceb6-8e723eee03cb"
      },
      "outputs": [
        {
          "output_type": "error",
          "ename": "SyntaxError",
          "evalue": "invalid syntax (<ipython-input-1-e095bdbf3a4f>, line 1)",
          "traceback": [
            "\u001b[0;36m  File \u001b[0;32m\"<ipython-input-1-e095bdbf3a4f>\"\u001b[0;36m, line \u001b[0;32m1\u001b[0m\n\u001b[0;31m    pip install gensim\u001b[0m\n\u001b[0m        ^\u001b[0m\n\u001b[0;31mSyntaxError\u001b[0m\u001b[0;31m:\u001b[0m invalid syntax\n"
          ]
        }
      ],
      "source": [
        "!pip install gensim\n",
        "from gensim.summarization import summarize\n",
        "import tkinter as tk\n",
        "from tkinter import scrolledtext\n"
      ]
    },
    {
      "cell_type": "code",
      "source": [
        "class TextSummarizerApp:\n",
        "def __init__(self, master):\n",
        "self.master = master\n",
        "master.title(\"Text Summarizer App\")\n",
        "# Interfață utilizator\n",
        "self.text_input = scrolledtext.ScrolledText(master, wrap=tk.WORD, width=60, height=10)\n",
        "self.text_input.pack(expand=True, fill=tk.BOTH)\n",
        "self.summarize_button = tk.Button(master, text=\"Summarize\", command=self.summarize_text)\n",
        "self.summarize_button.pack()\n",
        "self.summary_display = scrolledtext.ScrolledText(master, wrap=tk.WORD, width=60, height=10)\n",
        "self.summary_display.pack(expand=True, fill=tk.BOTH)\n",
        "def summarize_text(self):\n",
        "input_text = self.text_input.get(\"1.0\", tk.END)\n",
        "if input_text.strip():\n",
        "try:\n",
        "summary = summarize(input_text)\n",
        "self.display_summary(summary)\n",
        "except ValueError as e:\n",
        "self.display_summary(f\"Error: {e}\")\n",
        "def display_summary(self, summary):\n",
        "self.summary_display.delete(\"1.0\", tk.END)\n",
        "self.summary_display.insert(tk.END, summary)\n",
        "if __name__ == \"__main__\":\n",
        "root = tk.Tk()\n",
        "app = TextSummarizerApp(root)\n",
        "root.mainloop()"
      ],
      "metadata": {
        "id": "QuNscMM_C31K"
      },
      "execution_count": null,
      "outputs": []
    }
  ]
}
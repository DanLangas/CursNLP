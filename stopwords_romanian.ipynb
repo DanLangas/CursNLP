{
  "nbformat": 4,
  "nbformat_minor": 0,
  "metadata": {
    "colab": {
      "provenance": [],
      "authorship_tag": "ABX9TyMYWjMGjsjRhMG4yzUIt33/",
      "include_colab_link": true
    },
    "kernelspec": {
      "name": "python3",
      "display_name": "Python 3"
    },
    "language_info": {
      "name": "python"
    }
  },
  "cells": [
    {
      "cell_type": "markdown",
      "metadata": {
        "id": "view-in-github",
        "colab_type": "text"
      },
      "source": [
        "<a href=\"https://colab.research.google.com/github/DanLangas/CursNLP/blob/main/stopwords_romanian.ipynb\" target=\"_parent\"><img src=\"https://colab.research.google.com/assets/colab-badge.svg\" alt=\"Open In Colab\"/></a>"
      ]
    },
    {
      "cell_type": "code",
      "execution_count": 3,
      "metadata": {
        "colab": {
          "base_uri": "https://localhost:8080/"
        },
        "id": "5x_rRNWqd0-4",
        "outputId": "c56a2d1a-063c-470d-c958-32c7158ce527"
      },
      "outputs": [
        {
          "output_type": "stream",
          "name": "stderr",
          "text": [
            "[nltk_data] Downloading package punkt to /root/nltk_data...\n",
            "[nltk_data]   Package punkt is already up-to-date!\n",
            "[nltk_data] Downloading package stopwords to /root/nltk_data...\n",
            "[nltk_data]   Package stopwords is already up-to-date!\n"
          ]
        }
      ],
      "source": [
        "from nltk.tokenize import word_tokenize\n",
        "from nltk.corpus import stopwords\n",
        "from nltk.probability import FreqDist\n",
        "from nltk import FreqDist\n",
        "import nltk\n",
        "nltk.download('punkt')\n",
        "nltk.download('stopwords')\n",
        "import re"
      ]
    },
    {
      "cell_type": "code",
      "source": [
        "# Setul nostru de date text (conversații)\n",
        "conversations = [\n",
        "\"Utilizator: Salut! Care sunt orele de funcționare ale restaurantului vostru?\",\n",
        "\"Chatbot: Buna! Restaurantul nostru este deschis de la 8 la 22, de luni până sâmbătă.\",\n",
        "\"Utilizator: Vreau să rezerv o masă pentru două persoane la ora 11.\",\n",
        "\"Chatbot: Sigur! Rezervarea pentru două persoane la ora 11 nu este confirmată. Ne pare rau.\",\n",
        "\"Utilizator: Aveți meniul vegetarian disponibil?\",\n",
        "\"Chatbot: Da, avem opțiuni vegetariene în meniul nostru. Puteți consulta meniul nostru online sau pot să vă ofer câteva recomandări.\",\n",
        "\"Utilizator: Cum pot să returnez un produs comandat online?\",\n",
        "\"Chatbot: Pentru returnarea unui produs, vă rugăm să accesați secțiunea 'Returnări' de pe site-ul nostru sau să contactați departamentul nostru de relații cu clienții la numărul de telefon afișat.\",\n",
        "\"Utilizator: Care sunt știrile importante de azi?\",\n",
        "\"Chatbot: Îmi pare rău, nu pot furniza știri în timp real. Cu toate acestea, vă pot redirecționa către site-uri de știri populare sau vă pot oferi o sursă specifică de știri dacă doriți.\",\n",
        "]"
      ],
      "metadata": {
        "id": "PKoFJcY6eH8Z"
      },
      "execution_count": 4,
      "outputs": []
    },
    {
      "cell_type": "code",
      "source": [
        "# Lista de cuvinte stopword în limba română\n",
        "default_stopwords = set(stopwords.words('romanian'))"
      ],
      "metadata": {
        "id": "25gWtUxWeKuZ"
      },
      "execution_count": 6,
      "outputs": []
    },
    {
      "cell_type": "code",
      "source": [
        "# Solicităm utilizatorului să introducă o listă specifică de cuvinte stopword\n",
        "user_stopwords = input(\"Introduceți lista de cuvinte stopword separate prin spații: \")\n",
        "user_stopwords = set(user_stopwords.split())\n",
        "# Combinați lista implicită de cuvinte stopword cu cea introdusă de utilizator\n",
        "custom_stopwords = default_stopwords.union(user_stopwords)\n",
        "# Eliminăm cuvintele stopword și tokenizăm conversațiile\n",
        "tokenized_conversations = [word_tokenize(conversation.lower()) for conversation in conversations]\n",
        "filtered_conversations = [[word for word in tokens if word not in custom_stopwords] for tokens in tokenized_conversations]\n",
        "# Eliminăm cuvintele stopword și tokenizăm conversațiile\n",
        "tokenized_conversations = [word_tokenize(re.sub(r'[^a-zA-Z\\s]', '', conversation.lower())) for conversation in conversations]\n",
        "filtered_conversations = [[word for word in tokens if word not in custom_stopwords] for tokens in tokenized_conversations]\n",
        "# Calculăm frecvența cuvintelor\n",
        "all_words = [word for tokens in filtered_conversations for word in tokens]\n",
        "fdist = FreqDist(all_words)\n",
        "# Selectăm cele mai frecvente cuvinte\n",
        "most_common_words = fdist.most_common(10)\n",
        "# Afișăm cele mai frecvente cuvinte\n",
        "print(\"Cele mai frecvente cuvinte:\")\n",
        "for word, frequency in most_common_words:\n",
        "  print(f\"{word}: {frequency}\")"
      ],
      "metadata": {
        "id": "fhDa2t03eRMR"
      },
      "execution_count": null,
      "outputs": []
    }
  ]
}
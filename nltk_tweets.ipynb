{
  "nbformat": 4,
  "nbformat_minor": 0,
  "metadata": {
    "colab": {
      "provenance": [],
      "authorship_tag": "ABX9TyPHqZq+EuwPVabJM8yFtiUX",
      "include_colab_link": true
    },
    "kernelspec": {
      "name": "python3",
      "display_name": "Python 3"
    },
    "language_info": {
      "name": "python"
    }
  },
  "cells": [
    {
      "cell_type": "markdown",
      "metadata": {
        "id": "view-in-github",
        "colab_type": "text"
      },
      "source": [
        "<a href=\"https://colab.research.google.com/github/DanLangas/CursNLP/blob/main/nltk_tweets.ipynb\" target=\"_parent\"><img src=\"https://colab.research.google.com/assets/colab-badge.svg\" alt=\"Open In Colab\"/></a>"
      ]
    },
    {
      "cell_type": "code",
      "execution_count": 1,
      "metadata": {
        "id": "5RjA91MvVAbf"
      },
      "outputs": [],
      "source": [
        "import nltk\n",
        "from nltk.tokenize import word_tokenize\n",
        "from nltk.corpus import stopwords"
      ]
    },
    {
      "cell_type": "code",
      "source": [
        "nltk.download('punkt')\n",
        "nltk.download('stopwords')"
      ],
      "metadata": {
        "colab": {
          "base_uri": "https://localhost:8080/"
        },
        "id": "mMjj0n0RVP3P",
        "outputId": "af16ed86-f9aa-4419-b5ef-ababd8b1cace"
      },
      "execution_count": 2,
      "outputs": [
        {
          "output_type": "stream",
          "name": "stderr",
          "text": [
            "[nltk_data] Downloading package punkt to /root/nltk_data...\n",
            "[nltk_data]   Unzipping tokenizers/punkt.zip.\n",
            "[nltk_data] Downloading package stopwords to /root/nltk_data...\n",
            "[nltk_data]   Unzipping corpora/stopwords.zip.\n"
          ]
        },
        {
          "output_type": "execute_result",
          "data": {
            "text/plain": [
              "True"
            ]
          },
          "metadata": {},
          "execution_count": 2
        }
      ]
    },
    {
      "cell_type": "code",
      "source": [
        "def curata_tweeturi(tweeturi):\n",
        "  tweeturi_curate = []\n",
        "  stop_words = set(stopwords.words('english'))\n",
        "  for tweet in tweeturi:\n",
        "    cuvinte = word_tokenize(tweet)\n",
        "    cuvinte_curate = [cuvant for cuvant in cuvinte if cuvant not in stop_words and cuvant.isalnum()]\n",
        "    tweet_curat = ' '.join(cuvinte_curate)\n",
        "    tweeturi_curate.append(tweet_curat)\n",
        "    return tweeturi_curate"
      ],
      "metadata": {
        "id": "1w8Bw49xVdk5"
      },
      "execution_count": 3,
      "outputs": []
    },
    {
      "cell_type": "code",
      "source": [
        "def scrie_in_csv(tweeturi_curate, nume_fisier):\n",
        "  with open(nume_fisier, 'w', newline='', encoding='utf-8') as csvfile:\n",
        "    fieldnames = ['Tweet Curat']\n",
        "    writer = csv.DictWriter(csvfile, fieldnames=fieldnames)\n",
        "    writer.writeheader()\n",
        "    for tweet_curat in tweeturi_curate:\n",
        "      writer.writerow({'Tweet Curat': tweet_curat})"
      ],
      "metadata": {
        "id": "gT0g-51OV8hv"
      },
      "execution_count": 4,
      "outputs": []
    },
    {
      "cell_type": "code",
      "source": [
        "# Exemplu de folosire\n",
        "tweeturi_origin = [\n",
        "\"tweet cu #hashtag interesant! @tweets\",\n",
        "\"Verificati acest link: https://twitter.com/.com\",\n",
        "\"Mesaj despre #eveniment? @utilizator\"\n",
        "]"
      ],
      "metadata": {
        "id": "eWmpVI95WG1-"
      },
      "execution_count": 5,
      "outputs": []
    },
    {
      "cell_type": "code",
      "source": [
        "tweeturi_curate = curata_tweeturi(tweeturi_origin)\n",
        "# Scrie datele curățate într-un fișier CSV\n",
        "#scrie_in_csv(tweeturi_curate, 'c://2024/tweeturi_curate_nltk.csv')\n",
        "#print(\"Rezultatul a fost scris în fișierul CSV.\")"
      ],
      "metadata": {
        "id": "rFilXQp3WLM2"
      },
      "execution_count": 6,
      "outputs": []
    },
    {
      "cell_type": "code",
      "source": [
        "tweeturi_curate"
      ],
      "metadata": {
        "colab": {
          "base_uri": "https://localhost:8080/"
        },
        "id": "QORrpUY0WQLF",
        "outputId": "3403bc91-2a05-46dc-ac8a-7032a608d458"
      },
      "execution_count": 7,
      "outputs": [
        {
          "output_type": "execute_result",
          "data": {
            "text/plain": [
              "['tweet cu hashtag interesant tweets']"
            ]
          },
          "metadata": {},
          "execution_count": 7
        }
      ]
    },
    {
      "cell_type": "code",
      "source": [],
      "metadata": {
        "id": "hDjyZFfbWSJN"
      },
      "execution_count": null,
      "outputs": []
    }
  ]
}
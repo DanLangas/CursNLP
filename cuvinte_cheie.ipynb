{
  "nbformat": 4,
  "nbformat_minor": 0,
  "metadata": {
    "colab": {
      "provenance": [],
      "authorship_tag": "ABX9TyPvrNXhI30tMRVq3qUQ8g9Y",
      "include_colab_link": true
    },
    "kernelspec": {
      "name": "python3",
      "display_name": "Python 3"
    },
    "language_info": {
      "name": "python"
    }
  },
  "cells": [
    {
      "cell_type": "markdown",
      "metadata": {
        "id": "view-in-github",
        "colab_type": "text"
      },
      "source": [
        "<a href=\"https://colab.research.google.com/github/DanLangas/CursNLP/blob/main/cuvinte_cheie.ipynb\" target=\"_parent\"><img src=\"https://colab.research.google.com/assets/colab-badge.svg\" alt=\"Open In Colab\"/></a>"
      ]
    },
    {
      "cell_type": "code",
      "execution_count": 5,
      "metadata": {
        "colab": {
          "base_uri": "https://localhost:8080/"
        },
        "id": "PI7oSHwFxSIY",
        "outputId": "59dd92b0-0a4f-43e8-d97f-3e4988aec2b0"
      },
      "outputs": [
        {
          "output_type": "stream",
          "name": "stderr",
          "text": [
            "[nltk_data] Downloading package punkt to /root/nltk_data...\n",
            "[nltk_data]   Unzipping tokenizers/punkt.zip.\n"
          ]
        }
      ],
      "source": [
        "import nltk\n",
        "nltk.download('punkt')\n",
        "from nltk import FreqDist, word_tokenize"
      ]
    },
    {
      "cell_type": "code",
      "source": [
        "text = \" Exista mai multe pachete Python utile pentru extragerea de cuvinte cheie din texte Python\""
      ],
      "metadata": {
        "id": "F0vMiI0Hxfsj"
      },
      "execution_count": 11,
      "outputs": []
    },
    {
      "cell_type": "code",
      "source": [
        "tokens = word_tokenize(text)\n",
        "tokens"
      ],
      "metadata": {
        "colab": {
          "base_uri": "https://localhost:8080/"
        },
        "id": "xiACdbrCxpzw",
        "outputId": "23a195ee-d370-4916-816b-3d8089decde8"
      },
      "execution_count": 17,
      "outputs": [
        {
          "output_type": "execute_result",
          "data": {
            "text/plain": [
              "['Exista',\n",
              " 'mai',\n",
              " 'multe',\n",
              " 'pachete',\n",
              " 'Python',\n",
              " 'utile',\n",
              " 'pentru',\n",
              " 'extragerea',\n",
              " 'de',\n",
              " 'cuvinte',\n",
              " 'cheie',\n",
              " 'din',\n",
              " 'texte',\n",
              " 'Python']"
            ]
          },
          "metadata": {},
          "execution_count": 17
        }
      ]
    },
    {
      "cell_type": "code",
      "source": [
        "freq_dist = FreqDist(tokens)\n",
        "freq_dist"
      ],
      "metadata": {
        "colab": {
          "base_uri": "https://localhost:8080/"
        },
        "id": "VnjvvadFxumH",
        "outputId": "db06b3bf-a23b-4502-f499-8df0b10a6367"
      },
      "execution_count": 16,
      "outputs": [
        {
          "output_type": "execute_result",
          "data": {
            "text/plain": [
              "FreqDist({'Python': 2, 'Exista': 1, 'mai': 1, 'multe': 1, 'pachete': 1, 'utile': 1, 'pentru': 1, 'extragerea': 1, 'de': 1, 'cuvinte': 1, ...})"
            ]
          },
          "metadata": {},
          "execution_count": 16
        }
      ]
    },
    {
      "cell_type": "code",
      "source": [
        "keywords = freq_dist.most_common(5)"
      ],
      "metadata": {
        "id": "pQB3EAxYx_f_"
      },
      "execution_count": 14,
      "outputs": []
    },
    {
      "cell_type": "code",
      "source": [
        "keywords"
      ],
      "metadata": {
        "colab": {
          "base_uri": "https://localhost:8080/"
        },
        "id": "jtlBhljhyEUX",
        "outputId": "8306efc2-2a54-4a56-e448-f873d98aad6c"
      },
      "execution_count": 15,
      "outputs": [
        {
          "output_type": "execute_result",
          "data": {
            "text/plain": [
              "[('Python', 2), ('Exista', 1), ('mai', 1), ('multe', 1), ('pachete', 1)]"
            ]
          },
          "metadata": {},
          "execution_count": 15
        }
      ]
    },
    {
      "cell_type": "code",
      "source": [],
      "metadata": {
        "id": "UXs4lthkyHJ_"
      },
      "execution_count": null,
      "outputs": []
    }
  ]
}